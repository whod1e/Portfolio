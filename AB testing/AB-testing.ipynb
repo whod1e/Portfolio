{
 "cells": [
  {
   "cell_type": "markdown",
   "id": "e02d18a0-35b5-426d-adeb-4d1f8a268bd5",
   "metadata": {},
   "source": [
    "Представим, что я работаю аналитиком в средней по размеру компании, занимающейся электронной коммерцией. Дизайнер UX очень усердно работал над новой версией страницы продукта с целью увеличения конверсии в добавление в корзину. Продакт сказал мне, что текущая конверсия составляет около 13% в среднем в течение года, и что команда была бы довольна ростом на 2%, то есть новый дизайн будет считаться успешным, если он повысит конверсию до 15%."
   ]
  },
  {
   "cell_type": "markdown",
   "id": "487a0699-755d-4368-8b06-a545f59e8d24",
   "metadata": {},
   "source": [
    "Поэтому проведем A/B тестрирование новой фичи:\n",
    "1. [Дизайн эксперимента](#1.-Дизайн-эксперимента)\n",
    "2. [Сбор и подготовка данных](#2.-Сбор-и-подготовка-данных)\n",
    "3. [Визуализация результатов](#3.-Визуализация-результатов)\n",
    "4. [Проверка гипотезы](#4.-Проверка-гипотезы)\n",
    "5. [Подведение итогов](#5.-Подведение-итогов)"
   ]
  },
  {
   "cell_type": "markdown",
   "id": "eb1726e4-3110-4085-a544-6dc6562abf1d",
   "metadata": {},
   "source": [
    "***\n",
    "## 1. Дизайн эксперимента"
   ]
  },
  {
   "cell_type": "markdown",
   "id": "4612d3ed-3935-4e5b-a7a9-9d6dc7cc2a02",
   "metadata": {},
   "source": [
    "### Формулируем гипотезу"
   ]
  },
  {
   "cell_type": "markdown",
   "id": "a47dcc72-771a-4134-bb6e-ace0d070dc6b",
   "metadata": {},
   "source": [
    "Прежде всего сформируем гипотезу. Это позволит правильно интерпретировать результаты.\n",
    "\n",
    "Учитывая, что мы не знаем, будет ли новый дизайн работать лучше или хуже (или так же?) мы выберем двухсторонний тест:\n",
    "$$H_0: p = p_0$$\n",
    "$$H_a: p \\ne p_0$$\n",
    "где $p$ и $p_0$ обозначают коэффициент конверсии нового и старого дизайна соответственно. Также установим уровень доверия 95%:\n",
    "$$\\alpha = 0.05$$"
   ]
  },
  {
   "cell_type": "markdown",
   "id": "91803107-35ba-49e4-a759-7e8eb8bc4d28",
   "metadata": {},
   "source": [
    "Для нашего теста нам понадобятся **две группы**:\n",
    "* `Контроль A` — им будет показан старый дизайн\n",
    "* `Тест B` — им будет показан новый дизайн\n",
    "\n",
    "Мы заинтересованы, в том чтобы посчитать конверсию для каждой группы, поэтому отметим событие \"пользователь добавил товар в корзину\" с помощью бинарного переменной:\n",
    "* `0` - Данный пользователь не добавил ни одного товара в корзину на протяжении сессии\n",
    "* `1` - Данный пользователь добавил хотя бы один товар в корзину на протяжении сессии"
   ]
  },
  {
   "cell_type": "markdown",
   "id": "6675fa1a-371f-43c4-9669-da200bf09ae4",
   "metadata": {},
   "source": [
    "### Определим параметры эксперимента"
   ]
  },
  {
   "cell_type": "markdown",
   "id": "6c094957-2dea-409d-a64a-290361a2c4de",
   "metadata": {},
   "source": [
    "Необходимый объем выборки оценивается на основе:\n",
    "* **Мощность теста** ($1 - \\beta$) - это вероятность обнаружения статистической разницы между группами в нашем тесте, когда разница действительно присутствует. Обычно она устанавливается на уровне 0.8, такую и возьмем\n",
    "* **Alpha** ($\\alpha$) - уже установил на уровне 0.05\n",
    "* **Effect size** - Посчитаем его на основе того, что мы ожидаем рост конверсии с 13% до 15%\n",
    "   \n"
   ]
  },
  {
   "cell_type": "code",
   "execution_count": 74,
   "id": "ab0fa666-950a-477f-8756-4f99742859a7",
   "metadata": {},
   "outputs": [],
   "source": [
    "from scipy import stats\n",
    "from statsmodels.stats.power import TTestIndPower, tt_ind_solve_power, zt_ind_solve_power\n",
    "from statsmodels.stats.proportion import proportion_effectsize\n",
    "from statsmodels.stats.meta_analysis import effectsize_smd\n",
    "\n",
    "from typing import Union\n",
    "\n",
    "from math import ceil\n",
    "import matplotlib.pyplot as plt\n",
    "import seaborn as sns\n",
    "import pandas as pd\n",
    "\n",
    "%matplotlib inline\n",
    "sns.set_style(\"ticks\",{'axes.grid' : True})"
   ]
  },
  {
   "cell_type": "code",
   "execution_count": 21,
   "id": "d5f481f9-4451-4e7f-9332-9f20e75b462f",
   "metadata": {},
   "outputs": [],
   "source": [
    "effect_size = proportion_effectsize(0.13, 0.15)\n",
    "alpha = 0.05\n",
    "beta = 0.2\n",
    "def calc_sample_size_proportion(effect_size: float,\n",
    "                                alpha: float = .05,\n",
    "                                beta: float = .2,\n",
    "                                ratio: Union[float, int] = 1):\n",
    "    \n",
    "    n = zt_ind_solve_power(effect_size=effect_size,\n",
    "                           alpha=alpha,\n",
    "                           power=(1 - beta),\n",
    "                           ratio=ratio,\n",
    "                  )\n",
    "    return int(n)"
   ]
  },
  {
   "cell_type": "code",
   "execution_count": 55,
   "id": "2a534a30-d914-4883-a8bb-d90ed6af1632",
   "metadata": {},
   "outputs": [
    {
     "data": {
      "text/plain": [
       "4719"
      ]
     },
     "execution_count": 55,
     "metadata": {},
     "output_type": "execute_result"
    }
   ],
   "source": [
    "required_n = ceil(calc_sample_size_proportion(effect_size, alpha, beta))\n",
    "required_n"
   ]
  },
  {
   "cell_type": "markdown",
   "id": "9fccaf3a-1099-4430-a4e9-f25a3f4c1f98",
   "metadata": {},
   "source": [
    "Для нашего эксперимента потребуется по **4719** пользователей для каждой группы"
   ]
  },
  {
   "cell_type": "markdown",
   "id": "be91ca5c-4ecf-48bd-9106-024a7131db1c",
   "metadata": {},
   "source": [
    "***\n",
    "## 2. Сбор и подготовка данных"
   ]
  },
  {
   "cell_type": "markdown",
   "id": "bd960766-0218-4de3-928c-c3baf79c1822",
   "metadata": {},
   "source": [
    "1. Считаем данные в pandas DataFrame (<a href='https://www.kaggle.com/zhangluyuan/ab-testing?select=ab_data.csv'>dataset from Kaggle</a>)\n",
    "2. Проверим и очистим данные по необходимости\n",
    "3. Случайно выберим n=4719 строк из датафрейма для каждой группы"
   ]
  },
  {
   "cell_type": "code",
   "execution_count": 48,
   "id": "e9c222bd-ae29-4b71-b94e-f98bec670a95",
   "metadata": {},
   "outputs": [
    {
     "data": {
      "text/html": [
       "<div>\n",
       "<style scoped>\n",
       "    .dataframe tbody tr th:only-of-type {\n",
       "        vertical-align: middle;\n",
       "    }\n",
       "\n",
       "    .dataframe tbody tr th {\n",
       "        vertical-align: top;\n",
       "    }\n",
       "\n",
       "    .dataframe thead th {\n",
       "        text-align: right;\n",
       "    }\n",
       "</style>\n",
       "<table border=\"1\" class=\"dataframe\">\n",
       "  <thead>\n",
       "    <tr style=\"text-align: right;\">\n",
       "      <th></th>\n",
       "      <th>user_id</th>\n",
       "      <th>timestamp</th>\n",
       "      <th>group</th>\n",
       "      <th>landing_page</th>\n",
       "      <th>converted</th>\n",
       "    </tr>\n",
       "  </thead>\n",
       "  <tbody>\n",
       "    <tr>\n",
       "      <th>0</th>\n",
       "      <td>851104</td>\n",
       "      <td>2017-01-21 22:11:48.556739</td>\n",
       "      <td>control</td>\n",
       "      <td>old_page</td>\n",
       "      <td>0</td>\n",
       "    </tr>\n",
       "    <tr>\n",
       "      <th>1</th>\n",
       "      <td>804228</td>\n",
       "      <td>2017-01-12 08:01:45.159739</td>\n",
       "      <td>control</td>\n",
       "      <td>old_page</td>\n",
       "      <td>0</td>\n",
       "    </tr>\n",
       "    <tr>\n",
       "      <th>2</th>\n",
       "      <td>661590</td>\n",
       "      <td>2017-01-11 16:55:06.154213</td>\n",
       "      <td>treatment</td>\n",
       "      <td>new_page</td>\n",
       "      <td>0</td>\n",
       "    </tr>\n",
       "    <tr>\n",
       "      <th>3</th>\n",
       "      <td>853541</td>\n",
       "      <td>2017-01-08 18:28:03.143765</td>\n",
       "      <td>treatment</td>\n",
       "      <td>new_page</td>\n",
       "      <td>0</td>\n",
       "    </tr>\n",
       "    <tr>\n",
       "      <th>4</th>\n",
       "      <td>864975</td>\n",
       "      <td>2017-01-21 01:52:26.210827</td>\n",
       "      <td>control</td>\n",
       "      <td>old_page</td>\n",
       "      <td>1</td>\n",
       "    </tr>\n",
       "    <tr>\n",
       "      <th>5</th>\n",
       "      <td>936923</td>\n",
       "      <td>2017-01-10 15:20:49.083499</td>\n",
       "      <td>control</td>\n",
       "      <td>old_page</td>\n",
       "      <td>0</td>\n",
       "    </tr>\n",
       "    <tr>\n",
       "      <th>6</th>\n",
       "      <td>679687</td>\n",
       "      <td>2017-01-19 03:26:46.940749</td>\n",
       "      <td>treatment</td>\n",
       "      <td>new_page</td>\n",
       "      <td>1</td>\n",
       "    </tr>\n",
       "    <tr>\n",
       "      <th>7</th>\n",
       "      <td>719014</td>\n",
       "      <td>2017-01-17 01:48:29.539573</td>\n",
       "      <td>control</td>\n",
       "      <td>old_page</td>\n",
       "      <td>0</td>\n",
       "    </tr>\n",
       "    <tr>\n",
       "      <th>8</th>\n",
       "      <td>817355</td>\n",
       "      <td>2017-01-04 17:58:08.979471</td>\n",
       "      <td>treatment</td>\n",
       "      <td>new_page</td>\n",
       "      <td>1</td>\n",
       "    </tr>\n",
       "    <tr>\n",
       "      <th>9</th>\n",
       "      <td>839785</td>\n",
       "      <td>2017-01-15 18:11:06.610965</td>\n",
       "      <td>treatment</td>\n",
       "      <td>new_page</td>\n",
       "      <td>1</td>\n",
       "    </tr>\n",
       "  </tbody>\n",
       "</table>\n",
       "</div>"
      ],
      "text/plain": [
       "   user_id                   timestamp      group landing_page  converted\n",
       "0   851104  2017-01-21 22:11:48.556739    control     old_page          0\n",
       "1   804228  2017-01-12 08:01:45.159739    control     old_page          0\n",
       "2   661590  2017-01-11 16:55:06.154213  treatment     new_page          0\n",
       "3   853541  2017-01-08 18:28:03.143765  treatment     new_page          0\n",
       "4   864975  2017-01-21 01:52:26.210827    control     old_page          1\n",
       "5   936923  2017-01-10 15:20:49.083499    control     old_page          0\n",
       "6   679687  2017-01-19 03:26:46.940749  treatment     new_page          1\n",
       "7   719014  2017-01-17 01:48:29.539573    control     old_page          0\n",
       "8   817355  2017-01-04 17:58:08.979471  treatment     new_page          1\n",
       "9   839785  2017-01-15 18:11:06.610965  treatment     new_page          1"
      ]
     },
     "execution_count": 48,
     "metadata": {},
     "output_type": "execute_result"
    }
   ],
   "source": [
    "df = pd.read_csv('ab_data.csv')\n",
    "df.head(10)"
   ]
  },
  {
   "cell_type": "code",
   "execution_count": 49,
   "id": "5c34be7e-38c6-4a6f-8937-7a922c1f50f2",
   "metadata": {},
   "outputs": [
    {
     "name": "stdout",
     "output_type": "stream",
     "text": [
      "<class 'pandas.core.frame.DataFrame'>\n",
      "RangeIndex: 294478 entries, 0 to 294477\n",
      "Data columns (total 5 columns):\n",
      " #   Column        Non-Null Count   Dtype \n",
      "---  ------        --------------   ----- \n",
      " 0   user_id       294478 non-null  int64 \n",
      " 1   timestamp     294478 non-null  object\n",
      " 2   group         294478 non-null  object\n",
      " 3   landing_page  294478 non-null  object\n",
      " 4   converted     294478 non-null  int64 \n",
      "dtypes: int64(2), object(3)\n",
      "memory usage: 11.2+ MB\n"
     ]
    }
   ],
   "source": [
    "df.info()"
   ]
  },
  {
   "cell_type": "code",
   "execution_count": 50,
   "id": "f1ce8c97-9412-45f4-b4db-26d7fc6c8c62",
   "metadata": {},
   "outputs": [
    {
     "data": {
      "text/html": [
       "<div>\n",
       "<style scoped>\n",
       "    .dataframe tbody tr th:only-of-type {\n",
       "        vertical-align: middle;\n",
       "    }\n",
       "\n",
       "    .dataframe tbody tr th {\n",
       "        vertical-align: top;\n",
       "    }\n",
       "\n",
       "    .dataframe thead th {\n",
       "        text-align: right;\n",
       "    }\n",
       "</style>\n",
       "<table border=\"1\" class=\"dataframe\">\n",
       "  <thead>\n",
       "    <tr style=\"text-align: right;\">\n",
       "      <th>landing_page</th>\n",
       "      <th>new_page</th>\n",
       "      <th>old_page</th>\n",
       "    </tr>\n",
       "    <tr>\n",
       "      <th>group</th>\n",
       "      <th></th>\n",
       "      <th></th>\n",
       "    </tr>\n",
       "  </thead>\n",
       "  <tbody>\n",
       "    <tr>\n",
       "      <th>control</th>\n",
       "      <td>1928</td>\n",
       "      <td>145274</td>\n",
       "    </tr>\n",
       "    <tr>\n",
       "      <th>treatment</th>\n",
       "      <td>145311</td>\n",
       "      <td>1965</td>\n",
       "    </tr>\n",
       "  </tbody>\n",
       "</table>\n",
       "</div>"
      ],
      "text/plain": [
       "landing_page  new_page  old_page\n",
       "group                           \n",
       "control           1928    145274\n",
       "treatment       145311      1965"
      ]
     },
     "execution_count": 50,
     "metadata": {},
     "output_type": "execute_result"
    }
   ],
   "source": [
    "pd.crosstab(df['group'], df['landing_page'])"
   ]
  },
  {
   "cell_type": "markdown",
   "id": "c454bde7-accc-4ef5-b1ab-f5918e298487",
   "metadata": {},
   "source": [
    "Видим, что у некоторых пользователей из контроля показывалась новая версия страницы, а у некоторых пользователей из теста показывалась старая страница. Скорее всего некоторые пользователи попали в две группы, нужно проверить"
   ]
  },
  {
   "cell_type": "code",
   "execution_count": 51,
   "id": "bb886c4c-96dc-42a6-9c6b-81b8122c0ffd",
   "metadata": {},
   "outputs": [
    {
     "name": "stdout",
     "output_type": "stream",
     "text": [
      "3894 пользователей  несколько раз встречались в датасете\n"
     ]
    }
   ],
   "source": [
    "session_counts = df['user_id'].value_counts(ascending=False)\n",
    "multi_users = session_counts[session_counts > 1].count()\n",
    "print(f'{multi_users} пользователей  несколько раз встречались в датасете')"
   ]
  },
  {
   "cell_type": "markdown",
   "id": "91ec5850-a7ff-4c65-9c14-bcec4af12dba",
   "metadata": {},
   "source": [
    "Таких пользователей небольшое количество, поэтому просто дропнем их"
   ]
  },
  {
   "cell_type": "code",
   "execution_count": 76,
   "id": "28bd1e50-cf62-49b9-9b49-e52dafe4c29f",
   "metadata": {},
   "outputs": [
    {
     "name": "stdout",
     "output_type": "stream",
     "text": [
      "В очищенном датасете 286690 записей\n"
     ]
    }
   ],
   "source": [
    "users_to_drop = session_counts[session_counts > 1].index\n",
    "users_to_drop\n",
    "df = df[~df['user_id'].isin(users_to_drop)]\n",
    "print(f'В очищенном датасете {df.shape[0]} записей')"
   ]
  },
  {
   "cell_type": "code",
   "execution_count": 53,
   "id": "7e12d53b-670b-4d1b-9abb-8621b215c3df",
   "metadata": {},
   "outputs": [
    {
     "data": {
      "text/html": [
       "<div>\n",
       "<style scoped>\n",
       "    .dataframe tbody tr th:only-of-type {\n",
       "        vertical-align: middle;\n",
       "    }\n",
       "\n",
       "    .dataframe tbody tr th {\n",
       "        vertical-align: top;\n",
       "    }\n",
       "\n",
       "    .dataframe thead th {\n",
       "        text-align: right;\n",
       "    }\n",
       "</style>\n",
       "<table border=\"1\" class=\"dataframe\">\n",
       "  <thead>\n",
       "    <tr style=\"text-align: right;\">\n",
       "      <th>landing_page</th>\n",
       "      <th>new_page</th>\n",
       "      <th>old_page</th>\n",
       "    </tr>\n",
       "    <tr>\n",
       "      <th>group</th>\n",
       "      <th></th>\n",
       "      <th></th>\n",
       "    </tr>\n",
       "  </thead>\n",
       "  <tbody>\n",
       "    <tr>\n",
       "      <th>control</th>\n",
       "      <td>0</td>\n",
       "      <td>143293</td>\n",
       "    </tr>\n",
       "    <tr>\n",
       "      <th>treatment</th>\n",
       "      <td>143397</td>\n",
       "      <td>0</td>\n",
       "    </tr>\n",
       "  </tbody>\n",
       "</table>\n",
       "</div>"
      ],
      "text/plain": [
       "landing_page  new_page  old_page\n",
       "group                           \n",
       "control              0    143293\n",
       "treatment       143397         0"
      ]
     },
     "execution_count": 53,
     "metadata": {},
     "output_type": "execute_result"
    }
   ],
   "source": [
    "pd.crosstab(df['group'], df['landing_page'])"
   ]
  },
  {
   "cell_type": "markdown",
   "id": "85669bf6-6cfa-4ff1-bc23-118197909e44",
   "metadata": {},
   "source": [
    "### Сэмплирование"
   ]
  },
  {
   "cell_type": "markdown",
   "id": "17410319-529e-4a6c-9b55-413cc4a47c8e",
   "metadata": {},
   "source": [
    "Теперь, когда наш DataFrame очищен, нужно рандомно набрать 4719 записей для каждой из групп"
   ]
  },
  {
   "cell_type": "code",
   "execution_count": 57,
   "id": "06603c90-d7f7-42da-a628-26bf8be8a6b2",
   "metadata": {},
   "outputs": [],
   "source": [
    "control_sample = df[df['group'] == 'control'].sample(n=required_n, random_state=22)\n",
    "treatment_sample = df[df['group'] == 'treatment'].sample(n=required_n, random_state=22)\n",
    "\n",
    "ab_test = pd.concat([control_sample, treatment_sample], axis=0)\n",
    "ab_test.reset_index(drop=True, inplace=True)"
   ]
  },
  {
   "cell_type": "code",
   "execution_count": 59,
   "id": "a061836b-c2bc-4950-81c6-cd87d1f9d9d0",
   "metadata": {},
   "outputs": [
    {
     "data": {
      "text/html": [
       "<div>\n",
       "<style scoped>\n",
       "    .dataframe tbody tr th:only-of-type {\n",
       "        vertical-align: middle;\n",
       "    }\n",
       "\n",
       "    .dataframe tbody tr th {\n",
       "        vertical-align: top;\n",
       "    }\n",
       "\n",
       "    .dataframe thead th {\n",
       "        text-align: right;\n",
       "    }\n",
       "</style>\n",
       "<table border=\"1\" class=\"dataframe\">\n",
       "  <thead>\n",
       "    <tr style=\"text-align: right;\">\n",
       "      <th></th>\n",
       "      <th>user_id</th>\n",
       "      <th>timestamp</th>\n",
       "      <th>group</th>\n",
       "      <th>landing_page</th>\n",
       "      <th>converted</th>\n",
       "    </tr>\n",
       "  </thead>\n",
       "  <tbody>\n",
       "    <tr>\n",
       "      <th>0</th>\n",
       "      <td>763854</td>\n",
       "      <td>2017-01-21 03:43:17.188315</td>\n",
       "      <td>control</td>\n",
       "      <td>old_page</td>\n",
       "      <td>0</td>\n",
       "    </tr>\n",
       "    <tr>\n",
       "      <th>1</th>\n",
       "      <td>690555</td>\n",
       "      <td>2017-01-18 06:38:13.079449</td>\n",
       "      <td>control</td>\n",
       "      <td>old_page</td>\n",
       "      <td>0</td>\n",
       "    </tr>\n",
       "    <tr>\n",
       "      <th>2</th>\n",
       "      <td>861520</td>\n",
       "      <td>2017-01-06 21:13:40.044766</td>\n",
       "      <td>control</td>\n",
       "      <td>old_page</td>\n",
       "      <td>0</td>\n",
       "    </tr>\n",
       "    <tr>\n",
       "      <th>3</th>\n",
       "      <td>630778</td>\n",
       "      <td>2017-01-05 16:42:36.995204</td>\n",
       "      <td>control</td>\n",
       "      <td>old_page</td>\n",
       "      <td>0</td>\n",
       "    </tr>\n",
       "    <tr>\n",
       "      <th>4</th>\n",
       "      <td>656634</td>\n",
       "      <td>2017-01-04 15:31:21.676130</td>\n",
       "      <td>control</td>\n",
       "      <td>old_page</td>\n",
       "      <td>0</td>\n",
       "    </tr>\n",
       "    <tr>\n",
       "      <th>...</th>\n",
       "      <td>...</td>\n",
       "      <td>...</td>\n",
       "      <td>...</td>\n",
       "      <td>...</td>\n",
       "      <td>...</td>\n",
       "    </tr>\n",
       "    <tr>\n",
       "      <th>9433</th>\n",
       "      <td>712350</td>\n",
       "      <td>2017-01-06 19:20:36.064972</td>\n",
       "      <td>treatment</td>\n",
       "      <td>new_page</td>\n",
       "      <td>1</td>\n",
       "    </tr>\n",
       "    <tr>\n",
       "      <th>9434</th>\n",
       "      <td>908512</td>\n",
       "      <td>2017-01-14 22:02:29.922674</td>\n",
       "      <td>treatment</td>\n",
       "      <td>new_page</td>\n",
       "      <td>0</td>\n",
       "    </tr>\n",
       "    <tr>\n",
       "      <th>9435</th>\n",
       "      <td>873211</td>\n",
       "      <td>2017-01-05 00:57:16.167151</td>\n",
       "      <td>treatment</td>\n",
       "      <td>new_page</td>\n",
       "      <td>0</td>\n",
       "    </tr>\n",
       "    <tr>\n",
       "      <th>9436</th>\n",
       "      <td>631276</td>\n",
       "      <td>2017-01-20 18:56:58.167809</td>\n",
       "      <td>treatment</td>\n",
       "      <td>new_page</td>\n",
       "      <td>0</td>\n",
       "    </tr>\n",
       "    <tr>\n",
       "      <th>9437</th>\n",
       "      <td>662301</td>\n",
       "      <td>2017-01-03 08:10:57.768806</td>\n",
       "      <td>treatment</td>\n",
       "      <td>new_page</td>\n",
       "      <td>0</td>\n",
       "    </tr>\n",
       "  </tbody>\n",
       "</table>\n",
       "<p>9438 rows × 5 columns</p>\n",
       "</div>"
      ],
      "text/plain": [
       "      user_id                   timestamp      group landing_page  converted\n",
       "0      763854  2017-01-21 03:43:17.188315    control     old_page          0\n",
       "1      690555  2017-01-18 06:38:13.079449    control     old_page          0\n",
       "2      861520  2017-01-06 21:13:40.044766    control     old_page          0\n",
       "3      630778  2017-01-05 16:42:36.995204    control     old_page          0\n",
       "4      656634  2017-01-04 15:31:21.676130    control     old_page          0\n",
       "...       ...                         ...        ...          ...        ...\n",
       "9433   712350  2017-01-06 19:20:36.064972  treatment     new_page          1\n",
       "9434   908512  2017-01-14 22:02:29.922674  treatment     new_page          0\n",
       "9435   873211  2017-01-05 00:57:16.167151  treatment     new_page          0\n",
       "9436   631276  2017-01-20 18:56:58.167809  treatment     new_page          0\n",
       "9437   662301  2017-01-03 08:10:57.768806  treatment     new_page          0\n",
       "\n",
       "[9438 rows x 5 columns]"
      ]
     },
     "execution_count": 59,
     "metadata": {},
     "output_type": "execute_result"
    }
   ],
   "source": [
    "ab_test"
   ]
  },
  {
   "cell_type": "code",
   "execution_count": 60,
   "id": "e58e793e-060a-4823-9a90-441c6d56ab36",
   "metadata": {},
   "outputs": [
    {
     "name": "stdout",
     "output_type": "stream",
     "text": [
      "<class 'pandas.core.frame.DataFrame'>\n",
      "RangeIndex: 9438 entries, 0 to 9437\n",
      "Data columns (total 5 columns):\n",
      " #   Column        Non-Null Count  Dtype \n",
      "---  ------        --------------  ----- \n",
      " 0   user_id       9438 non-null   int64 \n",
      " 1   timestamp     9438 non-null   object\n",
      " 2   group         9438 non-null   object\n",
      " 3   landing_page  9438 non-null   object\n",
      " 4   converted     9438 non-null   int64 \n",
      "dtypes: int64(2), object(3)\n",
      "memory usage: 368.8+ KB\n"
     ]
    }
   ],
   "source": [
    "ab_test.info()"
   ]
  },
  {
   "cell_type": "code",
   "execution_count": 61,
   "id": "6e0ea256-8d93-4908-84d3-a74779277f9d",
   "metadata": {
    "scrolled": true
   },
   "outputs": [
    {
     "data": {
      "text/plain": [
       "group\n",
       "control      4719\n",
       "treatment    4719\n",
       "Name: count, dtype: int64"
      ]
     },
     "execution_count": 61,
     "metadata": {},
     "output_type": "execute_result"
    }
   ],
   "source": [
    "ab_test['group'].value_counts()"
   ]
  },
  {
   "cell_type": "markdown",
   "id": "eef48a32-98fc-40a3-998c-488186dfcbd2",
   "metadata": {},
   "source": [
    "***\n",
    "## 3. Визуализация результатов"
   ]
  },
  {
   "cell_type": "code",
   "execution_count": 86,
   "id": "671ec0da-a43b-4792-b07b-4da28be1219c",
   "metadata": {},
   "outputs": [
    {
     "name": "stdout",
     "output_type": "stream",
     "text": [
      " Конверсия в контроле: 0.1233 \n",
      " Конверсия в тесте: 0.1255 \n"
     ]
    }
   ],
   "source": [
    "A = ab_test.query('group == \"control\"')\n",
    "B = ab_test.query('group == \"treatment\"')\n",
    "n1, n2 = A.shape[0], B.shape[0]\n",
    "m1, m2 = A[A['converted']==1].shape[0], B[B['converted']==1].shape[0]\n",
    "CR_A, CR_B = m1/n1, m2/n2\n",
    "CR_A, CR_B\n",
    "print(f' Конверсия в контроле: {CR_A:.4f} ')\n",
    "print(f' Конверсия в тесте: {CR_B:.4f} ')"
   ]
  },
  {
   "cell_type": "code",
   "execution_count": 75,
   "id": "978db9bd-c335-487b-82cb-4e3cc2a43b6a",
   "metadata": {},
   "outputs": [
    {
     "name": "stderr",
     "output_type": "stream",
     "text": [
      "C:\\Users\\rknuk\\AppData\\Local\\Temp\\ipykernel_59952\\1510267236.py:3: FutureWarning: \n",
      "\n",
      "The `ci` parameter is deprecated. Use `errorbar=('ci', False)` for the same effect.\n",
      "\n",
      "  sns.barplot(x=ab_test['group'], y=ab_test['converted'], ci=False)\n"
     ]
    },
    {
     "data": {
      "image/png": "[encoded data removed]",
      "text/plain": [
       "<Figure size 800x600 with 1 Axes>"
      ]
     },
     "metadata": {},
     "output_type": "display_data"
    }
   ],
   "source": [
    "plt.figure(figsize=(8,6))\n",
    "\n",
    "sns.barplot(x=ab_test['group'], y=ab_test['converted'], ci=False)\n",
    "\n",
    "plt.ylim(0, 0.17)\n",
    "plt.title('Conversion rate by group', pad=20)\n",
    "plt.xlabel('Group', labelpad=15)\n",
    "plt.ylabel('Converted (proportion)', labelpad=15);"
   ]
  },
  {
   "cell_type": "markdown",
   "id": "a04955f2-f35d-4d71-bd54-895350714111",
   "metadata": {},
   "source": [
    "***\n",
    "## 4. Проверка гипотезы"
   ]
  },
  {
   "cell_type": "code",
   "execution_count": 78,
   "id": "cacf6233-567c-40b9-8535-8aaa27f24293",
   "metadata": {},
   "outputs": [],
   "source": [
    "from statsmodels.stats.proportion import proportions_ztest, proportion_confint"
   ]
  },
  {
   "cell_type": "code",
   "execution_count": 82,
   "id": "70f00220-5318-4b57-a0ad-c500132c9ee8",
   "metadata": {},
   "outputs": [],
   "source": [
    "control_results = ab_test[ab_test['group'] == 'control']['converted']\n",
    "treatment_results = ab_test[ab_test['group'] == 'treatment']['converted']"
   ]
  },
  {
   "cell_type": "code",
   "execution_count": 89,
   "id": "9294e037-23bd-4282-9a60-ad98d6d4c5c5",
   "metadata": {},
   "outputs": [
    {
     "name": "stdout",
     "output_type": "stream",
     "text": [
      "z statistic: -0.31\n",
      "p-value: 0.755\n",
      "95% доверительный интервал для контроля: [0.114, 0.133]\n",
      "95% доверительный интервал для теста: [0.116, 0.135]\n"
     ]
    }
   ],
   "source": [
    "n_con = control_results.count()\n",
    "n_treat = treatment_results.count()\n",
    "successes = [control_results.sum(), treatment_results.sum()]\n",
    "nobs = [n_con, n_treat]\n",
    "\n",
    "z_stat, pval = proportions_ztest(successes, nobs=nobs)\n",
    "(lower_con, lower_treat), (upper_con, upper_treat) = proportion_confint(successes, nobs=nobs, alpha=0.05)\n",
    "\n",
    "print(f'z statistic: {z_stat:.2f}')\n",
    "print(f'p-value: {pval:.3f}')\n",
    "print(f'95% доверительный интервал для контроля: [{lower_con:.3f}, {upper_con:.3f}]')\n",
    "print(f'95% доверительный интервал для теста: [{lower_treat:.3f}, {upper_treat:.3f}]')"
   ]
  },
  {
   "cell_type": "markdown",
   "id": "e4b7976d-ede0-4909-b794-db9a26454982",
   "metadata": {},
   "source": [
    "## 5. Подведение итогов"
   ]
  },
  {
   "cell_type": "markdown",
   "id": "26b4d27d-96b3-4419-91fc-29ae9a8a684a",
   "metadata": {},
   "source": [
    "* $p$-value=0.732 оказался намного больше установленного $\\alpha$=0.05, поэтому мы не можем отвергнуть нулевую гипотезу. Это означает, что наш новый дизайн не показал существенной разницы (не говоря уже о том, чтобы он был лучше) по сравнению с нашим старым дизайном.\n",
    "* Также рекомендовал бы **проверить работу платформы A/B тестирования**, так как некоторые пользователи попадали в обе группы. "
   ]
  }
 ],
 "metadata": {
  "kernelspec": {
   "display_name": "Python 3 (ipykernel)",
   "language": "python",
   "name": "python3"
  },
  "language_info": {
   "codemirror_mode": {
    "name": "ipython",
    "version": 3
   },
   "file_extension": ".py",
   "mimetype": "text/x-python",
   "name": "python",
   "nbconvert_exporter": "python",
   "pygments_lexer": "ipython3",
   "version": "3.11.7"
  }
 },
 "nbformat": 4,
 "nbformat_minor": 5
}
